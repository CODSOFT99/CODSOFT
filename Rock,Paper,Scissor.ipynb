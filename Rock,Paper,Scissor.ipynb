{
 "cells": [
  {
   "cell_type": "code",
   "execution_count": 39,
   "id": "d4e3f2a0-d1e9-4a1b-9c69-ff71198d50e4",
   "metadata": {},
   "outputs": [
    {
     "name": "stdout",
     "output_type": "stream",
     "text": [
      "Welcome to Rock-Paper-Scissors!\n",
      "\n",
      "--- Current Score ---\n",
      "You: 0 | Computer: 0\n",
      "---------------------\n"
     ]
    },
    {
     "name": "stdin",
     "output_type": "stream",
     "text": [
      "Choose Rock, Paper, Scissor:  rock\n"
     ]
    },
    {
     "name": "stdout",
     "output_type": "stream",
     "text": [
      "You choose: rock\n",
      "Computer choose: paper\n",
      "Computer win the round\n",
      "\n",
      "--- Final Score ---\n",
      "You: 0 | Computer: 1\n",
      "-------------------\n"
     ]
    }
   ],
   "source": [
    "import random\n",
    "print(\"Welcome to Rock-Paper-Scissors!\")\n",
    "user_score = 0\n",
    "computer_score = 0\n",
    "print(f\"\\n--- Current Score ---\")\n",
    "print(f\"You: {user_score} | Computer: {computer_score}\")\n",
    "print(\"---------------------\")\n",
    "\n",
    "\n",
    "user_choice=input(\"Choose Rock, Paper, Scissor: \")\n",
    "if user_choice in ['rock','paper','scissor']:\n",
    "    u= user_choice\n",
    "else:\n",
    "    print(\"Invalid choice\")\n",
    "\n",
    "computer_choice=random.choice(['rock','paper','scissor'])\n",
    "c=computer_choice\n",
    "\n",
    "print(f\"You choose: {u}\")\n",
    "print(f\"Computer choose: {c}\")\n",
    "\n",
    "\n",
    "\n",
    "if user_choice==computer_choice:\n",
    "    print(\"It's a TIE\")\n",
    "elif(user_choice == 'rock' and computer_choice == 'scissors') or (user_choice == 'scissors' and computer_choice == 'paper') or (user_choice == 'paper' and computer_choice == 'rock'): \n",
    "\n",
    "         \n",
    "    print(\"You win the round\")\n",
    "    user_score+=1\n",
    "else:\n",
    "    print(\"Computer win the round\")\n",
    "    computer_score+=1\n",
    "    \n",
    "print(\"\\n--- Final Score ---\")\n",
    "print(f\"You: {user_score} | Computer: {computer_score}\")\n",
    "print(\"-------------------\")\n",
    "    \n",
    "    \n",
    "\n",
    "\n",
    "\n",
    "\n",
    "    "
   ]
  },
  {
   "cell_type": "code",
   "execution_count": null,
   "id": "d21090da-dcf0-4e77-8a1e-7ffbbb23b95e",
   "metadata": {},
   "outputs": [],
   "source": []
  }
 ],
 "metadata": {
  "kernelspec": {
   "display_name": "Python 3 (ipykernel)",
   "language": "python",
   "name": "python3"
  },
  "language_info": {
   "codemirror_mode": {
    "name": "ipython",
    "version": 3
   },
   "file_extension": ".py",
   "mimetype": "text/x-python",
   "name": "python",
   "nbconvert_exporter": "python",
   "pygments_lexer": "ipython3",
   "version": "3.13.5"
  }
 },
 "nbformat": 4,
 "nbformat_minor": 5
}
