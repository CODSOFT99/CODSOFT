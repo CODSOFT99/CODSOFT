{
 "cells": [
  {
   "cell_type": "code",
   "execution_count": 1,
   "id": "d9f2fc72-3330-4970-ba9c-d7b5b122778c",
   "metadata": {},
   "outputs": [
    {
     "name": "stdout",
     "output_type": "stream",
     "text": [
      "Welcomes You Here\n"
     ]
    },
    {
     "name": "stdin",
     "output_type": "stream",
     "text": [
      "Enter the first number:  5\n",
      "Enter the second number:  4\n"
     ]
    },
    {
     "name": "stdout",
     "output_type": "stream",
     "text": [
      "Choose an operation\n",
      "1. Addition '+' \n",
      "2. Subtraction '-' \n",
      "3. Multplication '*' \n",
      "4. Division '/' \n"
     ]
    },
    {
     "name": "stdin",
     "output_type": "stream",
     "text": [
      "Enter your operator:  -\n"
     ]
    },
    {
     "name": "stdout",
     "output_type": "stream",
     "text": [
      "Result: 5-4 = 1\n"
     ]
    }
   ],
   "source": [
    "print(\"Welcomes You Here\")\n",
    "num1=int(input(\"Enter the first number: \"))\n",
    "num2=int(input(\"Enter the second number: \"))\n",
    "\n",
    "print(\"Choose an operation\")\n",
    "print(\"1. Addition '+' \")\n",
    "print(\"2. Subtraction '-' \")\n",
    "print(\"3. Multplication '*' \")\n",
    "print(\"4. Division '/' \")   \n",
    "\n",
    "choice=input(\"Enter your operator: \")\n",
    "           \n",
    "if choice=='+':\n",
    "    print(f'Result: {num1}+{num2} = {num1 + num2}')\n",
    "elif choice=='-':\n",
    "    print(f'Result: {num1}-{num2} = {num1 - num2}')\n",
    "elif choice=='*':\n",
    "    print(f'Result: {num1}*{num2} = {num1 * num2}')\n",
    "elif choice=='/':\n",
    "    print(f'Result: {num1} / {num2} = {num1 / num2}')\n",
    "    \n",
    "else:\n",
    "    print (\"Invalid operator!!\")\n",
    "\n",
    "\n",
    "    \n",
    "\n",
    "\n",
    "    "
   ]
  },
  {
   "cell_type": "code",
   "execution_count": null,
   "id": "3cc73c0d-1186-4530-bd90-46995e0ddf0e",
   "metadata": {},
   "outputs": [],
   "source": []
  }
 ],
 "metadata": {
  "kernelspec": {
   "display_name": "Python 3 (ipykernel)",
   "language": "python",
   "name": "python3"
  },
  "language_info": {
   "codemirror_mode": {
    "name": "ipython",
    "version": 3
   },
   "file_extension": ".py",
   "mimetype": "text/x-python",
   "name": "python",
   "nbconvert_exporter": "python",
   "pygments_lexer": "ipython3",
   "version": "3.13.5"
  }
 },
 "nbformat": 4,
 "nbformat_minor": 5
}
