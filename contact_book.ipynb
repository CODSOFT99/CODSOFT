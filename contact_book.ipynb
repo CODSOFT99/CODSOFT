{
 "cells": [
  {
   "cell_type": "code",
   "execution_count": 1,
   "id": "bb98e3c7-cbb3-495e-a835-1ff00a9082bf",
   "metadata": {},
   "outputs": [
    {
     "name": "stdout",
     "output_type": "stream",
     "text": [
      "\n",
      "Contact Book App\n",
      "1. Add contact\n",
      "2. View contact list\n",
      "3. Search contact\n",
      "4. Update contact\n",
      "5. Delete contact\n",
      "6. Exit\n"
     ]
    },
    {
     "name": "stdin",
     "output_type": "stream",
     "text": [
      "Enter your choice:  1\n",
      "Enter the name:  Naman\n",
      "Enter phone number:  123456789\n",
      "Enter email:  naman123@gmail.com\n",
      "Enter address:  India\n"
     ]
    },
    {
     "name": "stdout",
     "output_type": "stream",
     "text": [
      "Contact name Naman has been created\n",
      "\n",
      "Contact Book App\n",
      "1. Add contact\n",
      "2. View contact list\n",
      "3. Search contact\n",
      "4. Update contact\n",
      "5. Delete contact\n",
      "6. Exit\n"
     ]
    },
    {
     "name": "stdin",
     "output_type": "stream",
     "text": [
      "Enter your choice:  2\n"
     ]
    },
    {
     "name": "stdout",
     "output_type": "stream",
     "text": [
      "All Saved Contacts\n",
      "Name: Naman, Phone: 123456789\n",
      "\n",
      "Contact Book App\n",
      "1. Add contact\n",
      "2. View contact list\n",
      "3. Search contact\n",
      "4. Update contact\n",
      "5. Delete contact\n",
      "6. Exit\n"
     ]
    },
    {
     "name": "stdin",
     "output_type": "stream",
     "text": [
      "Enter your choice:  3\n",
      "Enter name to search details:  Naman\n"
     ]
    },
    {
     "name": "stdout",
     "output_type": "stream",
     "text": [
      "Found - Name: Naman,  Phone_number:123456789,  Email:naman123@gmail.com,  Address:India\n",
      "\n",
      "Contact Book App\n",
      "1. Add contact\n",
      "2. View contact list\n",
      "3. Search contact\n",
      "4. Update contact\n",
      "5. Delete contact\n",
      "6. Exit\n"
     ]
    },
    {
     "name": "stdin",
     "output_type": "stream",
     "text": [
      "Enter your choice:  4\n",
      "Enter name to update contact:  Naman\n",
      "Enter updated phone number:  987654321\n",
      "Enter updated email:  xyz123@gmail.com\n",
      "Enter updated address:  Hindustan\n"
     ]
    },
    {
     "name": "stdout",
     "output_type": "stream",
     "text": [
      "\n",
      "Contact Book App\n",
      "1. Add contact\n",
      "2. View contact list\n",
      "3. Search contact\n",
      "4. Update contact\n",
      "5. Delete contact\n",
      "6. Exit\n"
     ]
    },
    {
     "name": "stdin",
     "output_type": "stream",
     "text": [
      "Enter your choice:  2\n"
     ]
    },
    {
     "name": "stdout",
     "output_type": "stream",
     "text": [
      "All Saved Contacts\n",
      "Name: Naman, Phone: 987654321\n",
      "\n",
      "Contact Book App\n",
      "1. Add contact\n",
      "2. View contact list\n",
      "3. Search contact\n",
      "4. Update contact\n",
      "5. Delete contact\n",
      "6. Exit\n"
     ]
    },
    {
     "name": "stdin",
     "output_type": "stream",
     "text": [
      "Enter your choice:  5\n",
      "Enter the name to delete contact:  Naman\n"
     ]
    },
    {
     "name": "stdout",
     "output_type": "stream",
     "text": [
      "Contact name Naman has been deleted\n",
      "\n",
      "Contact Book App\n",
      "1. Add contact\n",
      "2. View contact list\n",
      "3. Search contact\n",
      "4. Update contact\n",
      "5. Delete contact\n",
      "6. Exit\n"
     ]
    },
    {
     "name": "stdin",
     "output_type": "stream",
     "text": [
      "Enter your choice:  2\n"
     ]
    },
    {
     "name": "stdout",
     "output_type": "stream",
     "text": [
      "No contacts available. Add some contacts first!\n",
      "\n",
      "Contact Book App\n",
      "1. Add contact\n",
      "2. View contact list\n",
      "3. Search contact\n",
      "4. Update contact\n",
      "5. Delete contact\n",
      "6. Exit\n"
     ]
    },
    {
     "name": "stdin",
     "output_type": "stream",
     "text": [
      "Enter your choice:  6\n"
     ]
    },
    {
     "name": "stdout",
     "output_type": "stream",
     "text": [
      "Closing the program\n"
     ]
    }
   ],
   "source": [
    "contacts={}\n",
    "while True:\n",
    "    print('\\nContact Book App')\n",
    "    print('1. Add contact')\n",
    "    print('2. View contact list')\n",
    "    print('3. Search contact')\n",
    "    print('4. Update contact')\n",
    "    print('5. Delete contact')\n",
    "    print('6. Exit')\n",
    "\n",
    "    choice=input('Enter your choice: ')\n",
    "\n",
    "    if choice=='1':\n",
    "        name=input('Enter the name: ')\n",
    "        if name in contacts:\n",
    "            print(f'Contact name {name} already exists!')\n",
    "        else:\n",
    "            phone=input('Enter phone number: ')\n",
    "            email=input('Enter email: ')\n",
    "            address=input('Enter address: ')\n",
    "            contacts[name]={'phone':phone,'email':email,'address':address}\n",
    "            print(f'Contact name {name} has been created')\n",
    "\n",
    "    elif choice == '2':\n",
    "        if not contacts:\n",
    "            print(\"No contacts available. Add some contacts first!\")\n",
    "        else:\n",
    "            print(\"All Saved Contacts\")\n",
    "            for name, details in contacts.items():\n",
    "                print(f\"Name: {name}, Phone: {details['phone']}\")\n",
    "\n",
    "    elif choice=='3':\n",
    "        s_name=input('Enter name to search details: ')\n",
    "        found=False\n",
    "        for name, contact in contacts.items():\n",
    "            if s_name.lower() in name.lower():\n",
    "                print(f'Found - Name: {name},  Phone_number:{phone},  Email:{email},  Address:{address}')\n",
    "                found=True\n",
    "        if not found:\n",
    "            print(\"No contact exists with this name\")\n",
    "\n",
    "    elif choice=='4':\n",
    "        name=input(\"Enter name to update contact: \")\n",
    "        if name in contacts:\n",
    "            phone=input('Enter updated phone number: ')\n",
    "            email=input('Enter updated email: ')\n",
    "            address=input('Enter updated address: ')\n",
    "            contacts[name]={'phone':phone,'email':email,'address':address}\n",
    "        else:\n",
    "            print(\"Contact not found.\")\n",
    "            \n",
    "    elif choice=='5':\n",
    "        name=input('Enter the name to delete contact: ')\n",
    "        if name in contacts:\n",
    "            del contacts[name]\n",
    "            print(f'Contact name {name} has been deleted')\n",
    "    elif choice=='6':\n",
    "        print(\"Closing the program\")\n",
    "        break\n",
    "\n",
    "    else:\n",
    "        print(\"Wrong choice selected!!\")\n",
    "            \n",
    "            \n",
    "\n",
    "\n",
    "\n",
    "    "
   ]
  },
  {
   "cell_type": "code",
   "execution_count": null,
   "id": "d8d440a9-9ab6-4c7a-ad59-4a5ffad8fd96",
   "metadata": {},
   "outputs": [],
   "source": []
  },
  {
   "cell_type": "code",
   "execution_count": null,
   "id": "d6745c85-94e8-454e-9357-e824cf8c35c9",
   "metadata": {},
   "outputs": [],
   "source": []
  }
 ],
 "metadata": {
  "kernelspec": {
   "display_name": "Python 3 (ipykernel)",
   "language": "python",
   "name": "python3"
  },
  "language_info": {
   "codemirror_mode": {
    "name": "ipython",
    "version": 3
   },
   "file_extension": ".py",
   "mimetype": "text/x-python",
   "name": "python",
   "nbconvert_exporter": "python",
   "pygments_lexer": "ipython3",
   "version": "3.13.5"
  }
 },
 "nbformat": 4,
 "nbformat_minor": 5
}
